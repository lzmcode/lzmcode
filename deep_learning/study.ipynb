{
 "cells": [
  {
   "cell_type": "markdown",
   "metadata": {},
   "source": [
    "## oss快速安装\n",
    "下载地址 Ubuntu16.04\n",
    "\n",
    "http://docs-aliyun.cn-hangzhou.oss.aliyun-inc.com/assets/attach/32196/cn_zh/1527232098199/ossfs_1.80.5_ubuntu16.04_amd64.deb?spm=a2c4g.11186623.2.1.6wvstj&file=ossfs_1.80.5_ubuntu16.04_amd64.deb\n",
    "\n",
    "安装方法\n",
    "对于Ubuntu，安装命令为：\n",
    "```bash\n",
    "sudo apt-get update\n",
    "sudo apt-get install gdebi-core\n",
    "sudo gdebi your_ossfs_package\n",
    "```\n",
    "\n",
    "使用方法\n",
    "设置bucket name 和 AccessKeyId/Secret信息，将其存放在/etc/passwd-ossfs 文件中，注意这个文件的权限必须正确设置，建议设为640。\n",
    "```bash\n",
    "echo my-bucket:my-access-key-id:my-access-key-secret > /etc/passwd-ossfs\n",
    "chmod 640 /etc/passwd-ossfs\n",
    "```\n",
    "\n",
    "将OSS bucket mount到指定目录。挂载点不需要再加bucket前缀\n",
    "```bash\n",
    "ossfs my-bucket my-mount-point -ourl=my-oss-endpoint\n",
    "```"
   ]
  },
  {
   "cell_type": "markdown",
   "metadata": {},
   "source": [
    "## pandas 修改 DataFrame 列名\n",
    "### 方式一：columns属性\n",
    "1. 暴力\n",
    "\n",
    "```python\n",
    "df.columns = ['a', 'b', 'c', 'd', 'e']\n",
    "```\n",
    "\n",
    "2. 修改\n",
    "```python\n",
    "df.columns = df.columns.str.strip('$')\n",
    "```\n",
    "\n",
    "3. 修改\n",
    "```python\n",
    "df.columns = df.columns.map(lambda x:x[1:])\n",
    "```\n",
    "\n",
    "### 方式二：rename方法、columns参数\n",
    "\n",
    "1. 暴力（好处：也可只修改特定的列）\n",
    "```python\n",
    "df.rename(columns=('$a': 'a', '$b': 'b', '$c': 'c', '$d': 'd', '$e': 'e'}, inplace=True) \n",
    "```\n",
    "\n",
    "2. 修改\n",
    "```python\n",
    "df.rename(columns=lambda x:x.replace('$',''), inplace=True)\n",
    "```"
   ]
  },
  {
   "cell_type": "markdown",
   "metadata": {},
   "source": [
    "## keras画acc和loss曲线图\n",
    "\n",
    "```python\n",
    "#加载keras模块\n",
    "from __future__ import print_function\n",
    "import numpy as np\n",
    "np.random.seed(1337)  # for reproducibility\n",
    "\n",
    "import keras\n",
    "from keras.datasets import mnist\n",
    "from keras.models import Sequential\n",
    "from keras.layers.core import Dense, Dropout, Activation\n",
    "from keras.optimizers import SGD, Adam, RMSprop\n",
    "from keras.utils import np_utils\n",
    "import matplotlib.pyplot as plt\n",
    "%matplotlib inline\n",
    "\n",
    "#写一个LossHistory类，保存loss和acc\n",
    "class LossHistory(keras.callbacks.Callback):\n",
    "    def on_train_begin(self, logs={}):\n",
    "        self.losses = {'batch':[], 'epoch':[]}\n",
    "        self.accuracy = {'batch':[], 'epoch':[]}\n",
    "        self.val_loss = {'batch':[], 'epoch':[]}\n",
    "        self.val_acc = {'batch':[], 'epoch':[]}\n",
    "\n",
    "    def on_batch_end(self, batch, logs={}):\n",
    "        self.losses['batch'].append(logs.get('loss'))\n",
    "        self.accuracy['batch'].append(logs.get('acc'))\n",
    "        self.val_loss['batch'].append(logs.get('val_loss'))\n",
    "        self.val_acc['batch'].append(logs.get('val_acc'))\n",
    "\n",
    "    def on_epoch_end(self, batch, logs={}):\n",
    "        self.losses['epoch'].append(logs.get('loss'))\n",
    "        self.accuracy['epoch'].append(logs.get('acc'))\n",
    "        self.val_loss['epoch'].append(logs.get('val_loss'))\n",
    "        self.val_acc['epoch'].append(logs.get('val_acc'))\n",
    "\n",
    "    def loss_plot(self, loss_type):\n",
    "        iters = range(len(self.losses[loss_type]))\n",
    "        plt.figure()\n",
    "        # acc\n",
    "        plt.plot(iters, self.accuracy[loss_type], 'r', label='train acc')\n",
    "        # loss\n",
    "        plt.plot(iters, self.losses[loss_type], 'g', label='train loss')\n",
    "        if loss_type == 'epoch':\n",
    "            # val_acc\n",
    "            plt.plot(iters, self.val_acc[loss_type], 'b', label='val acc')\n",
    "            # val_loss\n",
    "            plt.plot(iters, self.val_loss[loss_type], 'k', label='val loss')\n",
    "        plt.grid(True)\n",
    "        plt.xlabel(loss_type)\n",
    "        plt.ylabel('acc-loss')\n",
    "        plt.legend(loc=\"upper right\")\n",
    "        plt.show()\n",
    "#变量初始化\n",
    "batch_size = 128 \n",
    "nb_classes = 10\n",
    "nb_epoch = 20\n",
    "\n",
    "# the data, shuffled and split between train and test sets\n",
    "(X_train, y_train), (X_test, y_test) = mnist.load_data()\n",
    "\n",
    "X_train = X_train.reshape(60000, 784)\n",
    "X_test = X_test.reshape(10000, 784)\n",
    "X_train = X_train.astype('float32')\n",
    "X_test = X_test.astype('float32')\n",
    "X_train /= 255\n",
    "X_test /= 255\n",
    "print(X_train.shape[0], 'train samples')\n",
    "print(X_test.shape[0], 'test samples')\n",
    "\n",
    "# convert class vectors to binary class matrices\n",
    "Y_train = np_utils.to_categorical(y_train, nb_classes)\n",
    "Y_test = np_utils.to_categorical(y_test, nb_classes)\n",
    "\n",
    "#建立模型 使用Sequential（）\n",
    "model = Sequential()\n",
    "model.add(Dense(512, input_shape=(784,)))\n",
    "model.add(Activation('relu'))\n",
    "model.add(Dropout(0.2))\n",
    "model.add(Dense(512))\n",
    "model.add(Activation('relu'))\n",
    "model.add(Dropout(0.2))\n",
    "model.add(Dense(10))\n",
    "model.add(Activation('softmax'))\n",
    "\n",
    "#打印模型\n",
    "model.summary()\n",
    "\n",
    "#训练与评估\n",
    "#编译模型\n",
    "model.compile(loss='categorical_crossentropy',\n",
    "              optimizer=RMSprop(),\n",
    "              metrics=['accuracy'])\n",
    "#创建一个实例history\n",
    "history = LossHistory()\n",
    "\n",
    "#迭代训练（注意这个地方要加入callbacks）\n",
    "model.fit(X_train, Y_train,\n",
    "            batch_size=batch_size, nb_epoch=nb_epoch,\n",
    "            verbose=1, \n",
    "            validation_data=(X_test, Y_test),\n",
    "            callbacks=[history])\n",
    "\n",
    "#模型评估\n",
    "score = model.evaluate(X_test, Y_test, verbose=0)\n",
    "print('Test score:', score[0])\n",
    "print('Test accuracy:', score[1])\n",
    "\n",
    "#绘制acc-loss曲线\n",
    "history.loss_plot('epoch')\n",
    "```"
   ]
  },
  {
   "cell_type": "markdown",
   "metadata": {},
   "source": [
    "## pandas可视化入门教程\n",
    "\n",
    "https://www.yiibai.com/pandas/python_pandas_visualization.html"
   ]
  },
  {
   "cell_type": "markdown",
   "metadata": {},
   "source": [
    "## TensorFlow演示面板\n",
    "http://playground.tensorflow.org/"
   ]
  },
  {
   "cell_type": "markdown",
   "metadata": {},
   "source": [
    "## Numpy简介 高性能科学 和数据分析的基础包\n",
    "https://blog.csdn.net/NightCharm/article/details/62041119?locationNum=1&fps=1"
   ]
  },
  {
   "cell_type": "markdown",
   "metadata": {},
   "source": [
    "## angular CLI ubuntu16.04安装\n",
    "https://www.jianshu.com/p/327d88284abb"
   ]
  },
  {
   "cell_type": "markdown",
   "metadata": {},
   "source": [
    "## angular CLI win10x64安装\n",
    "https://blog.csdn.net/lnazj/article/details/78165034foxhandler=RssReadRenderProcessHandler"
   ]
  },
  {
   "cell_type": "markdown",
   "metadata": {},
   "source": [
    "## Mysql之查看表名和列名\n",
    "https://blog.csdn.net/yelllowcong/article/details/79112029\n"
   ]
  },
  {
   "cell_type": "markdown",
   "metadata": {},
   "source": [
    "## jupyter notebook自动补全\n",
    "https://blog.csdn.net/huangkangying/article/details/80769743"
   ]
  },
  {
   "cell_type": "markdown",
   "metadata": {},
   "source": [
    "## python多线程编程\n",
    "http://www.runoob.com/python3/python3-multithreading.html"
   ]
  },
  {
   "cell_type": "code",
   "execution_count": null,
   "metadata": {},
   "outputs": [],
   "source": []
  }
 ],
 "metadata": {
  "kernelspec": {
   "display_name": "Python 3",
   "language": "python",
   "name": "python3"
  },
  "language_info": {
   "codemirror_mode": {
    "name": "ipython",
    "version": 3
   },
   "file_extension": ".py",
   "mimetype": "text/x-python",
   "name": "python",
   "nbconvert_exporter": "python",
   "pygments_lexer": "ipython3",
   "version": "3.5.2"
  }
 },
 "nbformat": 4,
 "nbformat_minor": 2
}
